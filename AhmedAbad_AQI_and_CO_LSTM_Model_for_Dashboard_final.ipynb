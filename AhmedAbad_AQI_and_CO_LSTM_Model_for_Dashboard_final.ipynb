{
  "nbformat": 4,
  "nbformat_minor": 0,
  "metadata": {
    "colab": {
      "provenance": [],
      "machine_shape": "hm",
      "gpuType": "V100",
      "include_colab_link": true
    },
    "kernelspec": {
      "name": "python3",
      "display_name": "Python 3"
    },
    "language_info": {
      "name": "python"
    },
    "accelerator": "GPU"
  },
  "cells": [
    {
      "cell_type": "markdown",
      "metadata": {
        "id": "view-in-github",
        "colab_type": "text"
      },
      "source": [
        "<a href=\"https://colab.research.google.com/github/CAllans-Git/Air-Quality-IoT-Project/blob/main/AhmedAbad_AQI_and_CO_LSTM_Model_for_Dashboard_final.ipynb\" target=\"_parent\"><img src=\"https://colab.research.google.com/assets/colab-badge.svg\" alt=\"Open In Colab\"/></a>"
      ]
    },
    {
      "cell_type": "markdown",
      "source": [
      ],
      "metadata": {
        "id": "LjhdPGY4Jwzv"
      }
    },
    {
      "cell_type": "code",
      "source": [
        "from google.colab import drive\n",
        "drive.mount('/content/drive')"
      ],
      "metadata": {
        "colab": {
          "base_uri": "https://localhost:8080/"
        },
        "id": "-siEu8Juv57D",
        "outputId": "2010bf7b-eea8-44bc-893d-13a8e6d57059"
      },
      "execution_count": null,
      "outputs": [
        {
          "output_type": "stream",
          "name": "stdout",
          "text": [
            "Mounted at /content/drive\n"
          ]
        }
      ]
    },
    {
      "cell_type": "code",
      "source": [
        "\n",
        "import pandas as pd\n",
        "import numpy as np\n",
        "import tensorflow as tf\n",
        "from sklearn.model_selection import train_test_split\n",
        "from sklearn.preprocessing import MinMaxScaler, LabelEncoder, StandardScaler\n",
        "from tensorflow.keras.models import Sequential\n",
        "from tensorflow.keras.layers import Dense, LSTM, Dropout, Conv2D, Flatten\n",
        "from tensorflow.keras.utils import to_categorical\n",
        "from sklearn.ensemble import RandomForestRegressor\n",
        "from sklearn.metrics import mean_squared_error, accuracy_score\n",
        "from matplotlib import pyplot as plt\n",
        "from sklearn.model_selection import train_test_split\n",
        "from sklearn.ensemble import RandomForestRegressor\n",
        "from sklearn.metrics import mean_squared_error"
      ],
      "metadata": {
        "id": "haqc_zRrXEdt"
      },
      "execution_count": null,
      "outputs": []
    },
    {
      "cell_type": "markdown",
      "source": [
        "Data Cleaning and Preparation"
      ],
      "metadata": {
        "id": "j7R5W5VcXMWq"
      }
    },
    {
      "cell_type": "code",
      "execution_count": null,
      "metadata": {
        "id": "z6X_vFXdJgmY"
      },
      "outputs": [],
      "source": [
        "\n",
        "data = pd.read_csv('/content/drive/MyDrive/IoT Project- Air Quality/city_day_2020_cleaned.csv')\n",
        "data['Date'] = pd.to_datetime(data['Date'])\n",
        "data['Year'] = data['Date'].dt.year\n",
        "data['Month'] = data['Date'].dt.month\n",
        "data['Day'] = data['Date'].dt.day\n",
        "missing_percentage = (data.isnull().sum() / len(data)) * 100\n",
        "missing_percentage_sorted = missing_percentage.sort_values(ascending=False)\n",
        "columns_to_drop = missing_percentage_sorted[missing_percentage_sorted > 50].index\n",
        "data.drop(columns=columns_to_drop, inplace=True)\n",
        "\n",
        "numeric_columns = data.select_dtypes(include=['float64', 'int64']).columns\n",
        "for column in numeric_columns:\n",
        "    if data[column].isnull().sum() > 0:\n",
        "        data[column].fillna(data[column].median(), inplace=True)\n",
        "\n",
        "if 'AQI_Bucket' in data.columns:\n",
        "    data['AQI_Bucket'].fillna(data['AQI_Bucket'].mode()[0], inplace=True)\n",
        "if 'NO' in numeric_columns:\n",
        "    scaler = MinMaxScaler()\n",
        "    data['NO'] = scaler.fit_transform(data[['NO']])\n",
        "X = data.drop(['AQI', 'AQI_Bucket', 'Date'], axis=1)\n",
        "y = data['AQI']\n",
        "X_train, X_test, y_train, y_test = train_test_split(X, y, test_size=0.2, random_state=42)"
      ]
    },
    {
      "cell_type": "code",
      "source": [
        "\n",
        "file_path = '/content/drive/MyDrive/IoT Project- Air Quality/city_day_2020_cleaned.csv'\n",
        "df = pd.read_csv(file_path)\n",
        "ahmedabad_data = df[df['City'] == 'Ahmedabad']\n",
        "print(ahmedabad_data.head())"
      ],
      "metadata": {
        "colab": {
          "base_uri": "https://localhost:8080/"
        },
        "id": "bQLzVbpZwa1j",
        "outputId": "e078ae4c-dc2f-41e9-f808-cc33c15b83fb"
      },
      "execution_count": null,
      "outputs": [
        {
          "output_type": "stream",
          "name": "stdout",
          "text": [
            "        City        Date  PM2.5    PM10        NO    NO2    NOx   NH3    CO  \\\n",
            "0  Ahmedabad  2020-01-01  79.57  131.62  0.009523  12.64   8.99  13.5  3.78   \n",
            "1  Ahmedabad  2020-01-02  72.59  128.86  0.009139  14.38   9.73  13.5  3.63   \n",
            "2  Ahmedabad  2020-01-03  69.54  128.99  0.017920  15.13  12.65  13.5  7.06   \n",
            "3  Ahmedabad  2020-01-04  66.20  138.47  0.022810  20.79  16.84  13.5  8.97   \n",
            "4  Ahmedabad  2020-01-05  55.99  110.41  0.013696  15.34  11.53  13.5  5.41   \n",
            "\n",
            "     SO2     O3  Benzene  Toluene    AQI AQI_Bucket  Year  Month  Day  \n",
            "0  27.70  23.67     4.21    31.42  216.0       Poor  2020      1    1  \n",
            "1  23.96  23.67     3.71    31.14  162.0   Moderate  2020      1    2  \n",
            "2  35.78  23.66     4.78    31.14  220.0       Poor  2020      1    3  \n",
            "3  38.98  23.65     4.12    31.14  254.0       Poor  2020      1    4  \n",
            "4  45.83  23.61     3.30    31.14  255.0       Poor  2020      1    5  \n"
          ]
        }
      ]
    },
    {
      "cell_type": "code",
      "source": [
        "\n",
        "X = ahmedabad_data[['Year', 'Month', 'Day']]\n",
        "y = ahmedabad_data['AQI']\n",
        "X_train, X_test, y_train, y_test = train_test_split(X, y, test_size=0.2, random_state=42)\n",
        "model = RandomForestRegressor(random_state=42)\n",
        "model.fit(X_train, y_train)\n",
        "y_pred = model.predict(X_test)\n",
        "mse = mean_squared_error(y_test, y_pred)\n",
        "print(f'Mean Squared Error: {mse}')"
      ],
      "metadata": {
        "colab": {
          "base_uri": "https://localhost:8080/"
        },
        "id": "U6Kzkass9Vyb",
        "outputId": "25455e07-f5e9-4bba-de84-ec70a17c96ae"
      },
      "execution_count": null,
      "outputs": [
        {
          "output_type": "stream",
          "name": "stdout",
          "text": [
            "Mean Squared Error: 13184.87158108108\n"
          ]
        }
      ]
    },
    {
      "cell_type": "code",
      "source": [],
      "metadata": {
        "id": "bQkNBOOnZ0HH"
      },
      "execution_count": null,
      "outputs": []
    },
    {
      "cell_type": "markdown",
      "source": [],
      "metadata": {
        "id": "br98_C4kZ0kt"
      }
    },
    {
      "cell_type": "markdown",
      "source": [
        "#Modeling\n",
        "## Each model is evaluated separaely and a summary table of all model performances is provided at the end of this section"
      ],
      "metadata": {
        "id": "tMRP1F4oZ0po"
      }
    },
    {
      "cell_type": "markdown",
      "source": [],
      "metadata": {
        "id": "q1JB-8MKYDbQ"
      }
    },
    {
      "cell_type": "markdown",
      "source": [
        "# Model 2: LSTM for Time Series Forecasting\n"
      ],
      "metadata": {
        "id": "ZVcd9hjiYDeA"
      }
    },
    {
      "cell_type": "code",
      "source": [
        "\n",
        "aqi_values = data['AQI'].fillna(method='ffill').values.reshape(-1, 1)\n",
        "scaler = MinMaxScaler(feature_range=(0, 1))\n",
        "scaled_aqi = scaler.fit_transform(aqi_values)"
      ],
      "metadata": {
        "id": "S5blATamYYL_"
      },
      "execution_count": null,
      "outputs": []
    },
    {
      "cell_type": "code",
      "source": [
        "\n",
        "from tensorflow.keras.preprocessing.sequence import TimeseriesGenerator\n",
        "n_input = 14\n",
        "batch_size = 1\n",
        "generator = TimeseriesGenerator(scaled_aqi, scaled_aqi, length=n_input, batch_size=batch_size)"
      ],
      "metadata": {
        "id": "zQ-UDteOYxCn"
      },
      "execution_count": null,
      "outputs": []
    },
    {
      "cell_type": "code",
      "source": [
        "\n",
        "scaled_aqi = np.array(scaled_aqi)\n",
        "np.random.seed(42)\n",
        "sample_indices = np.random.choice(len(scaled_aqi), 1000, replace=False)\n",
        "sampled_scaled_aqi = scaled_aqi[sample_indices]\n",
        "generato\n",
        "model2 = Sequential([\n",
        "    LSTM(50, activation='relu', input_shape=(n_input, 1)),\n",
        "    Dropout(0.2),\n",
        "    Dense(1)\n",
        "])\n",
        "model2.compile(optimizer='adam', loss='mean_squared_error')\n",
        "model2.fit(generator, epochs=10, steps_per_epoch=len(generator), verbose=0)\n",
        "scores_2 = model2.evaluate(generator, verbose=0)\n",
        "print(\"Model 2 - LSTM model\")\n",
        "print(f\"Loss: {scores_2}\")\n"
      ],
      "metadata": {
        "colab": {
          "base_uri": "https://localhost:8080/"
        },
        "id": "ARNP-3jiYkkv",
        "outputId": "e5949418-bfe1-409f-bdae-023b2390e30c"
      },
      "execution_count": null,
      "outputs": [
        {
          "output_type": "stream",
          "name": "stderr",
          "text": [
            "WARNING:tensorflow:Layer lstm_7 will not use cuDNN kernels since it doesn't meet the criteria. It will use a generic GPU kernel as fallback when running on GPU.\n"
          ]
        },
        {
          "output_type": "stream",
          "name": "stdout",
          "text": [
            "Model 2 - LSTM model\n",
            "Loss: 0.0035286915954202414\n"
          ]
        }
      ]
    },
    {
      "cell_type": "code",
      "source": [],
      "metadata": {
        "id": "LxESNbV83TMs"
      },
      "execution_count": null,
      "outputs": []
    },
    {
      "cell_type": "code",
      "source": [
        "\n",
        "import math\n",
        "n_input = 14\n",
        "batch_size = 1\n",
        "model = Sequential([\n",
        "    LSTM(50, activation='relu', input_shape=(n_input, 1)),\n",
        "    Dropout(0.2),\n",
        "    Dense(1)\n",
        "])\n",
        "model.compile(optimizer='adam', loss='mean_squared_error')\n",
        "train_generator = TimeseriesGenerator(sampled_scaled_aqi, sampled_scaled_aqi, length=n_input, batch_size=batch_size)\n",
        "model.fit(train_generator, epochs=10, steps_per_epoch=len(train_generator), verbose=0)\n",
        "predictions = np.array([model.predict(train_generator[i][0], verbose=0) for i in range(len(train_generator))])\n",
        "actual_values = np.array([train_generator[i][1] for i in range(len(train_generator))])\n",
        "predictions = predictions.reshape(predictions.shape[0], predictions.shape[2])\n",
        "actual_values = actual_values.reshape(actual_values.shape[0], actual_values.shape[2])\n",
        "mse = mean_squared_error(actual_values, predictions)\n",
        "rmse = math.sqrt(mse)\n",
        "\n",
        "print(f\"MSE: {mse}\")\n",
        "print(f\"RMSE: {rmse}\")"
      ],
      "metadata": {
        "colab": {
          "base_uri": "https://localhost:8080/"
        },
        "id": "FQt60fjL33dK",
        "outputId": "907dd7e9-eb6b-4bb7-be87-506c6c2d759e"
      },
      "execution_count": null,
      "outputs": [
        {
          "output_type": "stream",
          "name": "stderr",
          "text": [
            "WARNING:tensorflow:Layer lstm_6 will not use cuDNN kernels since it doesn't meet the criteria. It will use a generic GPU kernel as fallback when running on GPU.\n"
          ]
        },
        {
          "output_type": "stream",
          "name": "stdout",
          "text": [
            "MSE: 0.0037009313660254306\n",
            "RMSE: 0.06083528060283301\n"
          ]
        }
      ]
    },
    {
      "cell_type": "code",
      "source": [
        "\n",
        "file_path = '/content/drive/MyDrive/IoT Project- Air Quality/city_day_2020_cleaned.csv'\n",
        "data = pd.read_csv(file_path)\n",
        "ahmedabad_data = data[data['City'] == 'Ahmedabad'].dropna(subset=['AQI'])\n",
        "ahmedabad_data['Date'] = pd.to_datetime(ahmedabad_data['Date'])\n",
        "aqi_values = ahmedabad_data['AQI'].values.reshape(-1, 1)\n",
        "scaler = MinMaxScaler(feature_range=(0, 1))\n",
        "scaled_aqi_values = scaler.fit_transform(aqi_values)\n",
        "n_input = 14\n",
        "batch_size = 1\n",
        "generator = TimeseriesGenerator(scaled_aqi_values, scaled_aqi_values, length=n_input, batch_size=batch_size)\n",
        "model = Sequential([\n",
        "    LSTM(50, input_shape=(n_input, 1)),\n",
        "    Dropout(0.2),\n",
        "    Dense(1)\n",
        "])\n",
        "model.compile(optimizer='adam', loss='mean_squared_error')\n",
        "model.fit(generator, epochs=10, steps_per_epoch=len(generator), verbose=0)\n",
        "predictions = model.predict(generator, verbose=0).flatten()\n",
        "predicted_aqi = scaler.inverse_transform(predictions.reshape(-1, 1)).flatten()\n",
        "prediction_dates = ahmedabad_data['Date'][n_input:].reset_index(drop=True)\n",
        "predicted_aqi_df = pd.DataFrame({\n",
        "    'Date': prediction_dates,\n",
        "    'Actual AQI': ahmedabad_data['AQI'][n_input:].reset_index(drop=True),\n",
        "    'Predicted AQI': predicted_aqi\n",
        "})\n",
        "predicted_aqi_df.to_csv('/content/drive/MyDrive/ahmedabad_aqi_predictions_lstm.csv', index=False)\n",
        "mse = mean_squared_error(predicted_aqi_df['Actual AQI'], predicted_aqi_df['Predicted AQI'])\n",
        "rmse = math.sqrt(mse)\n",
        "\n",
        "print(f\"MSE: {mse}\")\n",
        "print(f\"RMSE: {rmse}\")\n",
        "print(predicted_aqi_df.head())"
      ],
      "metadata": {
        "colab": {
          "base_uri": "https://localhost:8080/"
        },
        "id": "tkSOnFQxFX3p",
        "outputId": "976069a6-095d-46f9-f72b-7947f1e2b865"
      },
      "execution_count": null,
      "outputs": [
        {
          "output_type": "stream",
          "name": "stdout",
          "text": [
            "Drive already mounted at /content/drive; to attempt to forcibly remount, call drive.mount(\"/content/drive\", force_remount=True).\n",
            "MSE: 27919.215460731484\n",
            "RMSE: 167.09044096156873\n",
            "        Date  Actual AQI  Predicted AQI\n",
            "0 2020-01-15       142.0     220.715515\n",
            "1 2020-01-16       152.0     200.601929\n",
            "2 2020-01-17       334.0     192.389465\n",
            "3 2020-01-18       547.0     231.535172\n",
            "4 2020-01-19       375.0     304.774414\n"
          ]
        }
      ]
    },
    {
      "cell_type": "code",
      "source": [
        "\n",
        "predicted_aqi_df.to_csv('/content/drive/MyDrive/IoT Project- Air Quality/ahmedabad_aqi_predictions_lstm.csv', index=False)\n",
        "print(\"DataFrame saved to Google Drive at '/content/drive/MyDrive/IoT Project- Air Quality/ahmedabad_aqi_predictions_lstm.csv'.\")"
      ],
      "metadata": {
        "colab": {
          "base_uri": "https://localhost:8080/"
        },
        "id": "7_OeE9krIbb2",
        "outputId": "627ae078-48a1-4d4c-bce7-1839b76480d1"
      },
      "execution_count": null,
      "outputs": [
        {
          "output_type": "stream",
          "name": "stdout",
          "text": [
            "Drive already mounted at /content/drive; to attempt to forcibly remount, call drive.mount(\"/content/drive\", force_remount=True).\n",
            "DataFrame saved to Google Drive at '/content/drive/MyDrive/IoT Project- Air Quality/ahmedabad_aqi_predictions_lstm.csv'.\n"
          ]
        }
      ]
    },
    {
      "cell_type": "code",
      "source": [
        "\n",
        "drive.mount('/content/drive')\n",
        "file_path = '/content/drive/MyDrive/IoT Project- Air Quality/city_day_2020_cleaned.csv'\n",
        "data = pd.read_csv(file_path)\n",
        "\n",
        "ahmedabad_data = data[data['City'] == 'Ahmedabad'].dropna(subset=['CO'])\n",
        "\n",
        "co_values = ahmedabad_data['CO'].values.reshape(-1, 1)\n",
        "ahmedabad_data = data[data['City'] == 'Ahmedabad'].dropna(subset=['CO'])\n",
        "scaler = MinMaxScaler(feature_range=(0, 1))\n",
        "scaled_co_values = scaler.fit_transform(co_values)\n",
        "n_input = 14\n",
        "batch_size = 1\n",
        "generator = TimeseriesGenerator(scaled_co_values, scaled_co_values, length=n_input, batch_size=batch_size)\n",
        "model = Sequential([\n",
        "    LSTM(50, input_shape=(n_input, 1)),\n",
        "    Dropout(0.2),\n",
        "    Dense(1)\n",
        "])\n",
        "model.compile(optimizer='adam', loss='mean_squared_error')\n",
        "model.fit(generator, epochs=10, steps_per_epoch=len(generator), verbose=0)\n",
        "predictions = model.predict(generator, verbose=0).flatten()\n",
        "predicted_co = scaler.inverse_transform(predictions.reshape(-1, 1)).flatten()\n",
        "predicted_co_df = pd.DataFrame({\n",
        "    'Date': ahmedabad_data['Date'][n_input:].reset_index(drop=True),\n",
        "    'Actual CO': ahmedabad_data['CO'][n_input:].reset_index(drop=True),\n",
        "    'Predicted CO': predicted_co\n",
        "})\n",
        "predicted_co_df.to_csv('/content/drive/MyDrive/ahmedabad_co_predictions_lstm.csv', index=False)\n",
        "predicted_co_df.to_csv('/content/drive/MyDrive/IoT Project- Air Quality/ahmedabad_co_predictions_lstm.csv', index=False)\n",
        "\n",
        "mse = mean_squared_error(predicted_co_df['Actual CO'], predicted_co_df['Predicted CO'])\n",
        "rmse = math.sqrt(mse)\n",
        "print(f\"MSE: {mse}\")\n",
        "print(f\"RMSE: {rmse}\")\n",
        "print(predicted_co_df.head())\n"
      ],
      "metadata": {
        "colab": {
          "base_uri": "https://localhost:8080/"
        },
        "id": "1rShq8wOGT-R",
        "outputId": "53dc94f5-dfe0-4652-a1bc-f04ee3ec158a"
      },
      "execution_count": null,
      "outputs": [
        {
          "output_type": "stream",
          "name": "stdout",
          "text": [
            "Drive already mounted at /content/drive; to attempt to forcibly remount, call drive.mount(\"/content/drive\", force_remount=True).\n",
            "MSE: 161.8917264883205\n",
            "RMSE: 12.723667965186788\n",
            "        Date  Actual CO  Predicted CO\n",
            "0 2020-01-15       3.59      6.466534\n",
            "1 2020-01-16       3.75      6.144241\n",
            "2 2020-01-17      20.06      5.984624\n",
            "3 2020-01-18      24.98      9.616166\n",
            "4 2020-01-19      13.05     12.836783\n"
          ]
        }
      ]
    }
  ]
}
